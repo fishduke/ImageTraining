{
 "cells": [
  {
   "cell_type": "markdown",
   "metadata": {
    "tags": []
   },
   "source": [
    "1. 데이터 셋 불러오고 정규화하기\n",
    "[출처] 파이토치 딥러닝 튜토리얼 예제 Transfer Learning(전이 학습)을 이용한 CIFAR-10|작성자 ckdgus1433"
   ]
  },
  {
   "cell_type": "code",
   "execution_count": 26,
   "metadata": {
    "tags": []
   },
   "outputs": [
    {
     "output_type": "stream",
     "name": "stdout",
     "text": "Files already downloaded and verified\nFiles already downloaded and verified\n('male', 'female')\n"
    }
   ],
   "source": [
    "import torch\n",
    "import torch.nn as nn\n",
    "import torch.optim as optim\n",
    "from torch.optim import lr_scheduler\n",
    "import numpy as np\n",
    "import torchvision\n",
    "from torchvision import datasets, models, transforms\n",
    "import matplotlib.pyplot as plt\n",
    "import time\n",
    "import copy\n",
    "\n",
    "transform = transforms.Compose([\n",
    "        transforms.Resize(224, interpolation=2),\n",
    "        transforms.ToTensor(),\n",
    "        transforms.Normalize((0.5, 0.5, 0.5), (0.5, 0.5, 0.5))\n",
    "    ])\n",
    "\n",
    "batch_size = 40\n",
    "\n",
    "trainset = torchvision.datasets.CIFAR10(root='./data', train=True, download=True, transform=transform)\n",
    "trainloader = torch.utils.data.DataLoader(dataset=trainset, batch_size=batch_size,\n",
    "                                          shuffle=True, num_workers=0)\n",
    "\n",
    "testset=torchvision.datasets.CIFAR10(root='./data', train=False, download=True, transform=transform)\n",
    "testloader = torch.utils.data.DataLoader(dataset=testset, batch_size=batch_size,\n",
    "                                         shuffle=False, num_workers=0)\n",
    "\n",
    "dataloaders = {'train' : trainloader, 'val' : testloader }\n",
    "dataset_sizes = { 'train' : len(trainset) , 'val' : len(testset) }\n",
    "\n",
    "class_names = ('male','female')\n",
    "print(class_names)\n",
    "device = torch.device(\"cuda:0\" if torch.cuda.is_available() else \"cpu\") #GPU 사용가능 여부확인"
   ]
  },
  {
   "cell_type": "code",
   "execution_count": 27,
   "metadata": {
    "tags": []
   },
   "outputs": [
    {
     "output_type": "error",
     "ename": "IndexError",
     "evalue": "tuple index out of range",
     "traceback": [
      "\u001b[1;31m---------------------------------------------------------------------------\u001b[0m",
      "\u001b[1;31mIndexError\u001b[0m                                Traceback (most recent call last)",
      "\u001b[1;32m<ipython-input-27-41ce1c82909f>\u001b[0m in \u001b[0;36m<module>\u001b[1;34m\u001b[0m\n\u001b[0;32m     10\u001b[0m \u001b[0mimshow\u001b[0m\u001b[1;33m(\u001b[0m\u001b[0mtorchvision\u001b[0m\u001b[1;33m.\u001b[0m\u001b[0mutils\u001b[0m\u001b[1;33m.\u001b[0m\u001b[0mmake_grid\u001b[0m\u001b[1;33m(\u001b[0m\u001b[0mimages\u001b[0m\u001b[1;33m)\u001b[0m\u001b[1;33m)\u001b[0m\u001b[1;33m\u001b[0m\u001b[1;33m\u001b[0m\u001b[0m\n\u001b[0;32m     11\u001b[0m \u001b[1;31m# 정답(label) 출력\u001b[0m\u001b[1;33m\u001b[0m\u001b[1;33m\u001b[0m\u001b[1;33m\u001b[0m\u001b[0m\n\u001b[1;32m---> 12\u001b[1;33m \u001b[0mprint\u001b[0m\u001b[1;33m(\u001b[0m\u001b[1;34m' '\u001b[0m\u001b[1;33m.\u001b[0m\u001b[0mjoin\u001b[0m\u001b[1;33m(\u001b[0m\u001b[1;34m'%5s'\u001b[0m \u001b[1;33m%\u001b[0m \u001b[0mclass_names\u001b[0m\u001b[1;33m[\u001b[0m\u001b[0mlabels\u001b[0m\u001b[1;33m[\u001b[0m\u001b[0mj\u001b[0m\u001b[1;33m]\u001b[0m\u001b[1;33m]\u001b[0m \u001b[1;32mfor\u001b[0m \u001b[0mj\u001b[0m \u001b[1;32min\u001b[0m \u001b[0mrange\u001b[0m\u001b[1;33m(\u001b[0m\u001b[1;36m4\u001b[0m\u001b[1;33m)\u001b[0m\u001b[1;33m)\u001b[0m\u001b[1;33m)\u001b[0m\u001b[1;33m\u001b[0m\u001b[1;33m\u001b[0m\u001b[0m\n\u001b[0m\u001b[0;32m     13\u001b[0m \u001b[0mplt\u001b[0m\u001b[1;33m.\u001b[0m\u001b[0mshow\u001b[0m\u001b[1;33m(\u001b[0m\u001b[1;33m)\u001b[0m\u001b[1;33m\u001b[0m\u001b[1;33m\u001b[0m\u001b[0m\n",
      "\u001b[1;32m<ipython-input-27-41ce1c82909f>\u001b[0m in \u001b[0;36m<genexpr>\u001b[1;34m(.0)\u001b[0m\n\u001b[0;32m     10\u001b[0m \u001b[0mimshow\u001b[0m\u001b[1;33m(\u001b[0m\u001b[0mtorchvision\u001b[0m\u001b[1;33m.\u001b[0m\u001b[0mutils\u001b[0m\u001b[1;33m.\u001b[0m\u001b[0mmake_grid\u001b[0m\u001b[1;33m(\u001b[0m\u001b[0mimages\u001b[0m\u001b[1;33m)\u001b[0m\u001b[1;33m)\u001b[0m\u001b[1;33m\u001b[0m\u001b[1;33m\u001b[0m\u001b[0m\n\u001b[0;32m     11\u001b[0m \u001b[1;31m# 정답(label) 출력\u001b[0m\u001b[1;33m\u001b[0m\u001b[1;33m\u001b[0m\u001b[1;33m\u001b[0m\u001b[0m\n\u001b[1;32m---> 12\u001b[1;33m \u001b[0mprint\u001b[0m\u001b[1;33m(\u001b[0m\u001b[1;34m' '\u001b[0m\u001b[1;33m.\u001b[0m\u001b[0mjoin\u001b[0m\u001b[1;33m(\u001b[0m\u001b[1;34m'%5s'\u001b[0m \u001b[1;33m%\u001b[0m \u001b[0mclass_names\u001b[0m\u001b[1;33m[\u001b[0m\u001b[0mlabels\u001b[0m\u001b[1;33m[\u001b[0m\u001b[0mj\u001b[0m\u001b[1;33m]\u001b[0m\u001b[1;33m]\u001b[0m \u001b[1;32mfor\u001b[0m \u001b[0mj\u001b[0m \u001b[1;32min\u001b[0m \u001b[0mrange\u001b[0m\u001b[1;33m(\u001b[0m\u001b[1;36m4\u001b[0m\u001b[1;33m)\u001b[0m\u001b[1;33m)\u001b[0m\u001b[1;33m)\u001b[0m\u001b[1;33m\u001b[0m\u001b[1;33m\u001b[0m\u001b[0m\n\u001b[0m\u001b[0;32m     13\u001b[0m \u001b[0mplt\u001b[0m\u001b[1;33m.\u001b[0m\u001b[0mshow\u001b[0m\u001b[1;33m(\u001b[0m\u001b[1;33m)\u001b[0m\u001b[1;33m\u001b[0m\u001b[1;33m\u001b[0m\u001b[0m\n",
      "\u001b[1;31mIndexError\u001b[0m: tuple index out of range"
     ]
    }
   ],
   "source": [
    "def imshow(img):\n",
    "    img = img / 2 + 0.5     # unnormalize\n",
    "    npimg = img.numpy()\n",
    "    plt.imshow(np.transpose(npimg, (1, 2, 0)))\n",
    "\n",
    "dataiter = iter(trainloader)\n",
    "images, labels = dataiter.next()\n",
    "#print(tf.size(images))\n",
    "# 이미지 보여주기\n",
    "imshow(torchvision.utils.make_grid(images))\n",
    "# 정답(label) 출력\n",
    "print(' '.join('%5s' % class_names[labels[j]] for j in range(4)))\n",
    "plt.show()"
   ]
  },
  {
   "cell_type": "markdown",
   "metadata": {},
   "source": [
    "2. 모델 정의하기"
   ]
  },
  {
   "cell_type": "code",
   "execution_count": 8,
   "metadata": {
    "tags": []
   },
   "outputs": [],
   "source": [
    "model_ft = models.resnet18(pretrained=True)\n",
    "num_ftrs = model_ft.fc.in_features\n",
    "model_ft.fc = nn.Linear(num_ftrs, 10).cuda()\n",
    "\n",
    "model_ft = model_ft.to(device)"
   ]
  },
  {
   "cell_type": "markdown",
   "metadata": {},
   "source": [
    "3. 손실함수와 Optimizer 정의하기"
   ]
  },
  {
   "cell_type": "code",
   "execution_count": 9,
   "metadata": {},
   "outputs": [],
   "source": [
    "criterion = nn.CrossEntropyLoss()\n",
    "\n",
    "# Observe that all parameters are being optimized\n",
    "optimizer_ft = optim.SGD(model_ft.parameters(), lr=0.001, momentum=0.9)\n",
    "\n",
    "# Decay LR by a factor of 0.1 every 7 epochs\n",
    "exp_lr_scheduler = lr_scheduler.StepLR(optimizer_ft, step_size=7, gamma=0.1)"
   ]
  },
  {
   "cell_type": "markdown",
   "metadata": {},
   "source": [
    "4. Training set을 사용하여 신경망 학습하기 &\n",
    "\n",
    "5. Test set을 사용하여 신경망이 잘 훈련 했는지를 검사하기"
   ]
  },
  {
   "cell_type": "code",
   "execution_count": 10,
   "metadata": {
    "tags": []
   },
   "outputs": [
    {
     "output_type": "stream",
     "name": "stdout",
     "text": "================Finished modeling\n"
    }
   ],
   "source": [
    "\n",
    "def train_model(model, criterion, optimizer, scheduler, num_epochs=20):\n",
    "    since = time.time() #시작 시간을 기록(총 소요 시간 계산을 위해)\n",
    "\n",
    "    best_model_wts = copy.deepcopy(model.state_dict())\n",
    "    best_acc = 0.0\n",
    "\n",
    "    for epoch in range(num_epochs):\n",
    "        print('Epoch {}/{}'.format(epoch, num_epochs - 1)) #epoch를 카운트\n",
    "        print('-' * 10)\n",
    "\n",
    "        # Each epoch has a training and validation phase\n",
    "        for phase in ['train', 'val']:  #train mode와 validation mode 순으로 진행\n",
    "            if phase == 'train':\n",
    "                scheduler.step()\n",
    "                model.train()  # Set model to training mode\n",
    "            else:\n",
    "                model.eval()   # Set model to evaluate mode\n",
    "\n",
    "            running_loss = 0.0\n",
    "            running_corrects = 0\n",
    "\n",
    "            # Iterate over data.\n",
    "            # dataloader로부터 dataset과 그에 해당되는 label을 불러온다.\n",
    "            for inputs, labels in dataloaders[phase]:  \n",
    "                inputs = inputs.to(device) #GPU로 입력데이터를 올림\n",
    "                labels = labels.to(device) #GPU로 label을 올림\n",
    "                # zero the parameter gradients\n",
    "                optimizer.zero_grad()  #Gradient를 0으로 초기화\n",
    "\n",
    "                # forward\n",
    "                # track history if only in train\n",
    "                with torch.set_grad_enabled(phase == 'train'):\n",
    "                    outputs = model(inputs).cuda()\n",
    "                    _, preds = torch.max(outputs, 1) # 마지막 layer에서 가장 값이 큰 1개의 class를 예측 값으로 지정\n",
    "                    loss = criterion(outputs, labels).cuda()\n",
    "\n",
    "                    # backward + optimize only if in training phase\n",
    "                    if phase == 'train': # training 모드에서는 weight를 update한다.\n",
    "                        loss.backward()\n",
    "                        optimizer.step()\n",
    "                    else:\n",
    "                        preds=preds.cpu()\n",
    "                # statistics\n",
    "                running_loss += loss.item() * inputs.size(0)\n",
    "                preds = preds.cuda()\n",
    "                running_corrects += torch.sum(preds == labels.data)\n",
    "\n",
    "            epoch_loss = running_loss / dataset_sizes[phase]\n",
    "            epoch_acc = running_corrects.double() / dataset_sizes[phase]\n",
    "\n",
    "            print('{} Loss: {:.4f} Acc: {:.4f}'.format(\n",
    "                phase, epoch_loss, epoch_acc))\n",
    "\n",
    "            # deep copy the model\n",
    "            if phase == 'val' and epoch_acc > best_acc:\n",
    "                best_acc = epoch_acc\n",
    "                best_model_wts = copy.deepcopy(model.state_dict())\n",
    "\n",
    "        print()\n",
    "\n",
    "    time_elapsed = time.time() - since\n",
    "    print('Training complete in {:.0f}m {:.0f}s'.format(\n",
    "        time_elapsed // 60, time_elapsed % 60))\n",
    "    print('Best val Acc: {:4f}'.format(best_acc))\n",
    "\n",
    "    # load best model weights\n",
    "    model.load_state_dict(best_model_wts)\n",
    "    return model\n",
    "\n",
    "\n",
    "print('================Finished modeling')"
   ]
  },
  {
   "cell_type": "code",
   "execution_count": 11,
   "metadata": {
    "tags": []
   },
   "outputs": [
    {
     "output_type": "stream",
     "name": "stdout",
     "text": "Epoch 0/19\n----------\ntrain Loss: 0.4259 Acc: 0.8597\nval Loss: 0.2042 Acc: 0.9325\n\nEpoch 1/19\n----------\ntrain Loss: 0.1582 Acc: 0.9483\nval Loss: 0.1720 Acc: 0.9417\n\nEpoch 2/19\n----------\ntrain Loss: 0.0891 Acc: 0.9714\nval Loss: 0.1544 Acc: 0.9493\n\nEpoch 3/19\n----------\ntrain Loss: 0.0477 Acc: 0.9867\nval Loss: 0.1544 Acc: 0.9503\n\nEpoch 4/19\n----------\ntrain Loss: 0.0290 Acc: 0.9926\nval Loss: 0.1537 Acc: 0.9496\n\nEpoch 5/19\n----------\ntrain Loss: 0.0176 Acc: 0.9963\nval Loss: 0.1579 Acc: 0.9526\n\nEpoch 6/19\n----------\ntrain Loss: 0.0108 Acc: 0.9984\nval Loss: 0.1521 Acc: 0.9536\n\nEpoch 7/19\n----------\ntrain Loss: 0.0097 Acc: 0.9987\nval Loss: 0.1521 Acc: 0.9543\n\nEpoch 8/19\n----------\ntrain Loss: 0.0083 Acc: 0.9991\nval Loss: 0.1540 Acc: 0.9543\n\nEpoch 9/19\n----------\ntrain Loss: 0.0082 Acc: 0.9990\nval Loss: 0.1553 Acc: 0.9537\n\nEpoch 10/19\n----------\ntrain Loss: 0.0074 Acc: 0.9993\nval Loss: 0.1534 Acc: 0.9540\n\nEpoch 11/19\n----------\ntrain Loss: 0.0070 Acc: 0.9993\nval Loss: 0.1543 Acc: 0.9545\n\nEpoch 12/19\n----------\ntrain Loss: 0.0072 Acc: 0.9993\nval Loss: 0.1595 Acc: 0.9530\n\nEpoch 13/19\n----------\ntrain Loss: 0.0066 Acc: 0.9994\nval Loss: 0.1556 Acc: 0.9542\n\nEpoch 14/19\n----------\ntrain Loss: 0.0065 Acc: 0.9995\nval Loss: 0.1578 Acc: 0.9546\n\nEpoch 15/19\n----------\ntrain Loss: 0.0065 Acc: 0.9995\nval Loss: 0.1543 Acc: 0.9551\n\nEpoch 16/19\n----------\ntrain Loss: 0.0065 Acc: 0.9995\nval Loss: 0.1545 Acc: 0.9537\n\nEpoch 17/19\n----------\ntrain Loss: 0.0063 Acc: 0.9994\nval Loss: 0.1559 Acc: 0.9544\n\nEpoch 18/19\n----------\ntrain Loss: 0.0064 Acc: 0.9998\nval Loss: 0.1541 Acc: 0.9546\n\nEpoch 19/19\n----------\ntrain Loss: 0.0060 Acc: 0.9996\nval Loss: 0.1549 Acc: 0.9550\n\nTraining complete in 74m 26s\nBest val Acc: 0.955100\n"
    }
   ],
   "source": [
    "model_ft = train_model(model_ft, criterion, optimizer_ft, exp_lr_scheduler,num_epochs=5)"
   ]
  },
  {
   "cell_type": "code",
   "execution_count": null,
   "metadata": {},
   "outputs": [],
   "source": []
  }
 ],
 "metadata": {
  "kernelspec": {
   "name": "python361064bittarocatconda1728d964b65b467cac41ed427c5dc19b",
   "display_name": "Python 3.6.10 64-bit ('tarocat': conda)"
  }
 },
 "nbformat": 4,
 "nbformat_minor": 4
}