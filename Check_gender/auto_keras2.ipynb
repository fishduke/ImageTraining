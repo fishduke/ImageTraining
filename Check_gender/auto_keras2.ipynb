{
 "cells": [
  {
   "cell_type": "code",
   "execution_count": 18,
   "metadata": {
    "tags": []
   },
   "outputs": [
    {
     "output_type": "error",
     "ename": "ModuleNotFoundError",
     "evalue": "No module named 'autokeras'",
     "traceback": [
      "\u001b[0;31m---------------------------------------------------------------------------\u001b[0m",
      "\u001b[0;31mModuleNotFoundError\u001b[0m                       Traceback (most recent call last)",
      "\u001b[0;32m<ipython-input-18-cef0e98f52a4>\u001b[0m in \u001b[0;36m<module>\u001b[0;34m\u001b[0m\n\u001b[1;32m      4\u001b[0m \u001b[0;32mfrom\u001b[0m \u001b[0msklearn\u001b[0m\u001b[0;34m.\u001b[0m\u001b[0mmodel_selection\u001b[0m \u001b[0;32mimport\u001b[0m \u001b[0mtrain_test_split\u001b[0m\u001b[0;34m\u001b[0m\u001b[0;34m\u001b[0m\u001b[0m\n\u001b[1;32m      5\u001b[0m \u001b[0;32mimport\u001b[0m \u001b[0mos\u001b[0m\u001b[0;34m\u001b[0m\u001b[0;34m\u001b[0m\u001b[0m\n\u001b[0;32m----> 6\u001b[0;31m \u001b[0;32mimport\u001b[0m \u001b[0mautokeras\u001b[0m \u001b[0;32mas\u001b[0m \u001b[0mak\u001b[0m\u001b[0;34m\u001b[0m\u001b[0;34m\u001b[0m\u001b[0m\n\u001b[0m\u001b[1;32m      7\u001b[0m \u001b[0;32mimport\u001b[0m \u001b[0mtime\u001b[0m\u001b[0;34m\u001b[0m\u001b[0;34m\u001b[0m\u001b[0m\n\u001b[1;32m      8\u001b[0m \u001b[0;34m\u001b[0m\u001b[0m\n",
      "\u001b[0;31mModuleNotFoundError\u001b[0m: No module named 'autokeras'"
     ]
    }
   ],
   "source": [
    "import glob\n",
    "import numpy as np\n",
    "import cv2\n",
    "from sklearn.model_selection import train_test_split\n",
    "import os\n",
    "import autokeras as ak\n",
    "import time\n",
    "\n",
    "# train_female = glob.glob(\"Dataset/Train/Female/*.jpg\")\n",
    "# train_male = glob.glob(\"Dataset/Train/male/*.jpg\")"
   ]
  },
  {
   "cell_type": "code",
   "execution_count": 12,
   "metadata": {},
   "outputs": [],
   "source": [
    "groups_folder_path = '/home/gpulab/Dev/ImageTraining/Check_gender/Dataset/Train/'\n",
    "categories = [\"male\",\"female\"]\n",
    "num_classes = len(categories)"
   ]
  },
  {
   "cell_type": "code",
   "execution_count": 13,
   "metadata": {
    "tags": [
     "outputPrepend"
    ]
   },
   "outputs": [
    {
     "output_type": "stream",
     "name": "stdout",
     "text": "/004410.jpg\n/home/gpulab/Dev/ImageTraining/Check_gender/Dataset/Train/female/012880.jpg\n/home/gpulab/Dev/ImageTraining/Check_gender/Dataset/Train/female/077153.jpg\n/home/gpulab/Dev/ImageTraining/Check_gender/Dataset/Train/female/111861.jpg\n/home/gpulab/Dev/ImageTraining/Check_gender/Dataset/Train/female/017268.jpg\n/home/gpulab/Dev/ImageTraining/Check_gender/Dataset/Train/female/043071.jpg\n/home/gpulab/Dev/ImageTraining/Check_gender/Dataset/Train/female/101350.jpg\n/home/gpulab/Dev/ImageTraining/Check_gender/Dataset/Train/female/097367.jpg\n/home/gpulab/Dev/ImageTraining/Check_gender/Dataset/Train/female/111616.jpg\n/home/gpulab/Dev/ImageTraining/Check_gender/Dataset/Train/female/067961.jpg\n/home/gpulab/Dev/ImageTraining/Check_gender/Dataset/Train/female/067338.jpg\n/home/gpulab/Dev/ImageTraining/Check_gender/Dataset/Train/female/007038.jpg\n/home/gpulab/Dev/ImageTraining/Check_gender/Dataset/Train/female/118827.jpg\n/home/gpulab/Dev/ImageTraining/Check_gender/Dataset/Train/female/031435.jpg\n/home/gpulab/Dev/ImageTraining/Check_gender/Dataset/Train/female/043852.jpg\n/home/gpulab/Dev/ImageTraining/Check_gender/Dataset/Train/female/154338.jpg\n/home/gpulab/Dev/ImageTraining/Check_gender/Dataset/Train/female/115469.jpg\n/home/gpulab/Dev/ImageTraining/Check_gender/Dataset/Train/female/150773.jpg\n/home/gpulab/Dev/ImageTraining/Check_gender/Dataset/Train/female/045725.jpg\n/home/gpulab/Dev/ImageTraining/Check_gender/Dataset/Train/female/148561.jpg\n/home/gpulab/Dev/ImageTraining/Check_gender/Dataset/Train/female/051069.jpg\n/home/gpulab/Dev/ImageTraining/Check_gender/Dataset/Train/female/068488.jpg\n/home/gpulab/Dev/ImageTraining/Check_gender/Dataset/Train/female/030496.jpg\n/home/gpulab/Dev/ImageTraining/Check_gender/Dataset/Train/female/155679.jpg\n/home/gpulab/Dev/ImageTraining/Check_gender/Dataset/Train/female/105311.jpg\n/home/gpulab/Dev/ImageTraining/Check_gender/Dataset/Train/female/000178.jpg\n/home/gpulab/Dev/ImageTraining/Check_gender/Dataset/Train/female/134421.jpg\n/home/gpulab/Dev/ImageTraining/Check_gender/Dataset/Train/female/028866.jpg\n/home/gpulab/Dev/ImageTraining/Check_gender/Dataset/Train/female/079579.jpg\n/home/gpulab/Dev/ImageTraining/Check_gender/Dataset/Train/female/049174.jpg\n/home/gpulab/Dev/ImageTraining/Check_gender/Dataset/Train/female/145242.jpg\n/home/gpulab/Dev/ImageTraining/Check_gender/Dataset/Train/female/065926.jpg\n/home/gpulab/Dev/ImageTraining/Check_gender/Dataset/Train/female/116393.jpg\n/home/gpulab/Dev/ImageTraining/Check_gender/Dataset/Train/female/067578.jpg\n/home/gpulab/Dev/ImageTraining/Check_gender/Dataset/Train/female/119481.jpg\n/home/gpulab/Dev/ImageTraining/Check_gender/Dataset/Train/female/086750.jpg\n/home/gpulab/Dev/ImageTraining/Check_gender/Dataset/Train/female/069162.jpg\n/home/gpulab/Dev/ImageTraining/Check_gender/Dataset/Train/female/150998.jpg\n/home/gpulab/Dev/ImageTraining/Check_gender/Dataset/Train/female/125068.jpg\n/home/gpulab/Dev/ImageTraining/Check_gender/Dataset/Train/female/057370.jpg\n/home/gpulab/Dev/ImageTraining/Check_gender/Dataset/Train/female/155550.jpg\n/home/gpulab/Dev/ImageTraining/Check_gender/Dataset/Train/female/077240.jpg\n/home/gpulab/Dev/ImageTraining/Check_gender/Dataset/Train/female/148608.jpg\n/home/gpulab/Dev/ImageTraining/Check_gender/Dataset/Train/female/039120.jpg\n/home/gpulab/Dev/ImageTraining/Check_gender/Dataset/Train/female/030441.jpg\n/home/gpulab/Dev/ImageTraining/Check_gender/Dataset/Train/female/110675.jpg\n/home/gpulab/Dev/ImageTraining/Check_gender/Dataset/Train/female/070903.jpg\n/home/gpulab/Dev/ImageTraining/Check_gender/Dataset/Train/female/052703.jpg\n/home/gpulab/Dev/ImageTraining/Check_gender/Dataset/Train/female/055754.jpg\n/home/gpulab/Dev/ImageTraining/Check_gender/Dataset/Train/female/074653.jpg\n/home/gpulab/Dev/ImageTraining/Check_gender/Dataset/Train/female/092381.jpg\n/home/gpulab/Dev/ImageTraining/Check_gender/Dataset/Train/female/114459.jpg\n/home/gpulab/Dev/ImageTraining/Check_gender/Dataset/Train/female/059020.jpg\n/home/gpulab/Dev/ImageTraining/Check_gender/Dataset/Train/female/075929.jpg\n/home/gpulab/Dev/ImageTraining/Check_gender/Dataset/Train/female/092018.jpg\n/home/gpulab/Dev/ImageTraining/Check_gender/Dataset/Train/female/143183.jpg\n/home/gpulab/Dev/ImageTraining/Check_gender/Dataset/Train/female/103707.jpg\n/home/gpulab/Dev/ImageTraining/Check_gender/Dataset/Train/female/000373.jpg\n/home/gpulab/Dev/ImageTraining/Check_gender/Dataset/Train/female/068631.jpg\n/home/gpulab/Dev/ImageTraining/Check_gender/Dataset/Train/female/156949.jpg\n/home/gpulab/Dev/ImageTraining/Check_gender/Dataset/Train/female/027006.jpg\n/home/gpulab/Dev/ImageTraining/Check_gender/Dataset/Train/female/127320.jpg\n/home/gpulab/Dev/ImageTraining/Check_gender/Dataset/Train/female/106273.jpg\n/home/gpulab/Dev/ImageTraining/Check_gender/Dataset/Train/female/085697.jpg\n/home/gpulab/Dev/ImageTraining/Check_gender/Dataset/Train/female/004913.jpg\n/home/gpulab/Dev/ImageTraining/Check_gender/Dataset/Train/female/028023.jpg\n/home/gpulab/Dev/ImageTraining/Check_gender/Dataset/Train/female/041415.jpg\n/home/gpulab/Dev/ImageTraining/Check_gender/Dataset/Train/female/108960.jpg\n/home/gpulab/Dev/ImageTraining/Check_gender/Dataset/Train/female/024641.jpg\n/home/gpulab/Dev/ImageTraining/Check_gender/Dataset/Train/female/038271.jpg\n/home/gpulab/Dev/ImageTraining/Check_gender/Dataset/Train/female/144088.jpg\n/home/gpulab/Dev/ImageTraining/Check_gender/Dataset/Train/female/091399.jpg\n/home/gpulab/Dev/ImageTraining/Check_gender/Dataset/Train/female/128916.jpg\n/home/gpulab/Dev/ImageTraining/Check_gender/Dataset/Train/female/080761.jpg\n/home/gpulab/Dev/ImageTraining/Check_gender/Dataset/Train/female/082392.jpg\n/home/gpulab/Dev/ImageTraining/Check_gender/Dataset/Train/female/064698.jpg\n/home/gpulab/Dev/ImageTraining/Check_gender/Dataset/Train/female/096803.jpg\n/home/gpulab/Dev/ImageTraining/Check_gender/Dataset/Train/female/063471.jpg\n/home/gpulab/Dev/ImageTraining/Check_gender/Dataset/Train/female/077812.jpg\n/home/gpulab/Dev/ImageTraining/Check_gender/Dataset/Train/female/113127.jpg\n/home/gpulab/Dev/ImageTraining/Check_gender/Dataset/Train/female/080869.jpg\n/home/gpulab/Dev/ImageTraining/Check_gender/Dataset/Train/female/048529.jpg\n/home/gpulab/Dev/ImageTraining/Check_gender/Dataset/Train/female/048125.jpg\n/home/gpulab/Dev/ImageTraining/Check_gender/Dataset/Train/female/070663.jpg\n/home/gpulab/Dev/ImageTraining/Check_gender/Dataset/Train/female/083408.jpg\n/home/gpulab/Dev/ImageTraining/Check_gender/Dataset/Train/female/061944.jpg\n/home/gpulab/Dev/ImageTraining/Check_gender/Dataset/Train/female/045381.jpg\n/home/gpulab/Dev/ImageTraining/Check_gender/Dataset/Train/female/117637.jpg\n/home/gpulab/Dev/ImageTraining/Check_gender/Dataset/Train/female/094802.jpg\n/home/gpulab/Dev/ImageTraining/Check_gender/Dataset/Train/female/103880.jpg\n/home/gpulab/Dev/ImageTraining/Check_gender/Dataset/Train/female/153893.jpg\n/home/gpulab/Dev/ImageTraining/Check_gender/Dataset/Train/female/121111.jpg\n/home/gpulab/Dev/ImageTraining/Check_gender/Dataset/Train/female/043360.jpg\n/home/gpulab/Dev/ImageTraining/Check_gender/Dataset/Train/female/026534.jpg\n/home/gpulab/Dev/ImageTraining/Check_gender/Dataset/Train/female/096497.jpg\n/home/gpulab/Dev/ImageTraining/Check_gender/Dataset/Train/female/081911.jpg\n/home/gpulab/Dev/ImageTraining/Check_gender/Dataset/Train/female/057630.jpg\n/home/gpulab/Dev/ImageTraining/Check_gender/Dataset/Train/female/129801.jpg\n/home/gpulab/Dev/ImageTraining/Check_gender/Dataset/Train/female/110429.jpg\n/home/gpulab/Dev/ImageTraining/Check_gender/Dataset/Train/female/076379.jpg\n/home/gpulab/Dev/ImageTraining/Check_gender/Dataset/Train/female/068147.jpg\n/home/gpulab/Dev/ImageTraining/Check_gender/Dataset/Train/female/018889.jpg\n/home/gpulab/Dev/ImageTraining/Check_gender/Dataset/Train/female/134929.jpg\n/home/gpulab/Dev/ImageTraining/Check_gender/Dataset/Train/female/055027.jpg\n/home/gpulab/Dev/ImageTraining/Check_gender/Dataset/Train/female/157039.jpg\n/home/gpulab/Dev/ImageTraining/Check_gender/Dataset/Train/female/112718.jpg\n/home/gpulab/Dev/ImageTraining/Check_gender/Dataset/Train/female/075875.jpg\n/home/gpulab/Dev/ImageTraining/Check_gender/Dataset/Train/female/149051.jpg\n/home/gpulab/Dev/ImageTraining/Check_gender/Dataset/Train/female/027894.jpg\n/home/gpulab/Dev/ImageTraining/Check_gender/Dataset/Train/female/130865.jpg\n/home/gpulab/Dev/ImageTraining/Check_gender/Dataset/Train/female/121635.jpg\n/home/gpulab/Dev/ImageTraining/Check_gender/Dataset/Train/female/016950.jpg\n/home/gpulab/Dev/ImageTraining/Check_gender/Dataset/Train/female/151435.jpg\n/home/gpulab/Dev/ImageTraining/Check_gender/Dataset/Train/female/125118.jpg\n/home/gpulab/Dev/ImageTraining/Check_gender/Dataset/Train/female/156657.jpg\n/home/gpulab/Dev/ImageTraining/Check_gender/Dataset/Train/female/073771.jpg\n/home/gpulab/Dev/ImageTraining/Check_gender/Dataset/Train/female/001188.jpg\n/home/gpulab/Dev/ImageTraining/Check_gender/Dataset/Train/female/060638.jpg\n/home/gpulab/Dev/ImageTraining/Check_gender/Dataset/Train/female/036742.jpg\n/home/gpulab/Dev/ImageTraining/Check_gender/Dataset/Train/female/081919.jpg\n/home/gpulab/Dev/ImageTraining/Check_gender/Dataset/Train/female/156097.jpg\n/home/gpulab/Dev/ImageTraining/Check_gender/Dataset/Train/female/017215.jpg\n/home/gpulab/Dev/ImageTraining/Check_gender/Dataset/Train/female/146626.jpg\n/home/gpulab/Dev/ImageTraining/Check_gender/Dataset/Train/female/041480.jpg\n/home/gpulab/Dev/ImageTraining/Check_gender/Dataset/Train/female/108901.jpg\n/home/gpulab/Dev/ImageTraining/Check_gender/Dataset/Train/female/074732.jpg\n/home/gpulab/Dev/ImageTraining/Check_gender/Dataset/Train/female/002513.jpg\n/home/gpulab/Dev/ImageTraining/Check_gender/Dataset/Train/female/119726.jpg\n/home/gpulab/Dev/ImageTraining/Check_gender/Dataset/Train/female/039635.jpg\n/home/gpulab/Dev/ImageTraining/Check_gender/Dataset/Train/female/001086.jpg\n/home/gpulab/Dev/ImageTraining/Check_gender/Dataset/Train/female/021901.jpg\n/home/gpulab/Dev/ImageTraining/Check_gender/Dataset/Train/female/059043.jpg\n/home/gpulab/Dev/ImageTraining/Check_gender/Dataset/Train/female/155189.jpg\n/home/gpulab/Dev/ImageTraining/Check_gender/Dataset/Train/female/153647.jpg\n/home/gpulab/Dev/ImageTraining/Check_gender/Dataset/Train/female/150933.jpg\n/home/gpulab/Dev/ImageTraining/Check_gender/Dataset/Train/female/032504.jpg\n/home/gpulab/Dev/ImageTraining/Check_gender/Dataset/Train/female/058312.jpg\n/home/gpulab/Dev/ImageTraining/Check_gender/Dataset/Train/female/120204.jpg\n/home/gpulab/Dev/ImageTraining/Check_gender/Dataset/Train/female/019644.jpg\n/home/gpulab/Dev/ImageTraining/Check_gender/Dataset/Train/female/140892.jpg\n/home/gpulab/Dev/ImageTraining/Check_gender/Dataset/Train/female/033637.jpg\n/home/gpulab/Dev/ImageTraining/Check_gender/Dataset/Train/female/096617.jpg\n/home/gpulab/Dev/ImageTraining/Check_gender/Dataset/Train/female/072578.jpg\n/home/gpulab/Dev/ImageTraining/Check_gender/Dataset/Train/female/063606.jpg\n/home/gpulab/Dev/ImageTraining/Check_gender/Dataset/Train/female/045278.jpg\n/home/gpulab/Dev/ImageTraining/Check_gender/Dataset/Train/female/064651.jpg\n/home/gpulab/Dev/ImageTraining/Check_gender/Dataset/Train/female/112037.jpg\n/home/gpulab/Dev/ImageTraining/Check_gender/Dataset/Train/female/067811.jpg\n/home/gpulab/Dev/ImageTraining/Check_gender/Dataset/Train/female/001872.jpg\n/home/gpulab/Dev/ImageTraining/Check_gender/Dataset/Train/female/061273.jpg\n/home/gpulab/Dev/ImageTraining/Check_gender/Dataset/Train/female/072204.jpg\n/home/gpulab/Dev/ImageTraining/Check_gender/Dataset/Train/female/125480.jpg\n/home/gpulab/Dev/ImageTraining/Check_gender/Dataset/Train/female/142794.jpg\n/home/gpulab/Dev/ImageTraining/Check_gender/Dataset/Train/female/046642.jpg\n/home/gpulab/Dev/ImageTraining/Check_gender/Dataset/Train/female/107986.jpg\n/home/gpulab/Dev/ImageTraining/Check_gender/Dataset/Train/female/033454.jpg\n/home/gpulab/Dev/ImageTraining/Check_gender/Dataset/Train/female/016169.jpg\n/home/gpulab/Dev/ImageTraining/Check_gender/Dataset/Train/female/048838.jpg\n/home/gpulab/Dev/ImageTraining/Check_gender/Dataset/Train/female/111899.jpg\n/home/gpulab/Dev/ImageTraining/Check_gender/Dataset/Train/female/048423.jpg\n/home/gpulab/Dev/ImageTraining/Check_gender/Dataset/Train/female/115093.jpg\n/home/gpulab/Dev/ImageTraining/Check_gender/Dataset/Train/female/135779.jpg\n/home/gpulab/Dev/ImageTraining/Check_gender/Dataset/Train/female/091697.jpg\n/home/gpulab/Dev/ImageTraining/Check_gender/Dataset/Train/female/096623.jpg\n/home/gpulab/Dev/ImageTraining/Check_gender/Dataset/Train/female/143935.jpg\n/home/gpulab/Dev/ImageTraining/Check_gender/Dataset/Train/female/136844.jpg\n/home/gpulab/Dev/ImageTraining/Check_gender/Dataset/Train/female/047178.jpg\n/home/gpulab/Dev/ImageTraining/Check_gender/Dataset/Train/female/076122.jpg\n/home/gpulab/Dev/ImageTraining/Check_gender/Dataset/Train/female/129474.jpg\n/home/gpulab/Dev/ImageTraining/Check_gender/Dataset/Train/female/055398.jpg\n/home/gpulab/Dev/ImageTraining/Check_gender/Dataset/Train/female/043421.jpg\n/home/gpulab/Dev/ImageTraining/Check_gender/Dataset/Train/female/009003.jpg\n/home/gpulab/Dev/ImageTraining/Check_gender/Dataset/Train/female/043100.jpg\n/home/gpulab/Dev/ImageTraining/Check_gender/Dataset/Train/female/071257.jpg\n/home/gpulab/Dev/ImageTraining/Check_gender/Dataset/Train/female/134981.jpg\n/home/gpulab/Dev/ImageTraining/Check_gender/Dataset/Train/female/039330.jpg\n/home/gpulab/Dev/ImageTraining/Check_gender/Dataset/Train/female/005132.jpg\n/home/gpulab/Dev/ImageTraining/Check_gender/Dataset/Train/female/119678.jpg\n/home/gpulab/Dev/ImageTraining/Check_gender/Dataset/Train/female/110545.jpg\n/home/gpulab/Dev/ImageTraining/Check_gender/Dataset/Train/female/120025.jpg\n/home/gpulab/Dev/ImageTraining/Check_gender/Dataset/Train/female/071611.jpg\n/home/gpulab/Dev/ImageTraining/Check_gender/Dataset/Train/female/035763.jpg\n/home/gpulab/Dev/ImageTraining/Check_gender/Dataset/Train/female/148249.jpg\n/home/gpulab/Dev/ImageTraining/Check_gender/Dataset/Train/female/034694.jpg\n/home/gpulab/Dev/ImageTraining/Check_gender/Dataset/Train/female/087859.jpg\n/home/gpulab/Dev/ImageTraining/Check_gender/Dataset/Train/female/136143.jpg\n/home/gpulab/Dev/ImageTraining/Check_gender/Dataset/Train/female/046041.jpg\n/home/gpulab/Dev/ImageTraining/Check_gender/Dataset/Train/female/108332.jpg\n/home/gpulab/Dev/ImageTraining/Check_gender/Dataset/Train/female/118943.jpg\n/home/gpulab/Dev/ImageTraining/Check_gender/Dataset/Train/female/087510.jpg\n/home/gpulab/Dev/ImageTraining/Check_gender/Dataset/Train/female/128869.jpg\n/home/gpulab/Dev/ImageTraining/Check_gender/Dataset/Train/female/001098.jpg\n/home/gpulab/Dev/ImageTraining/Check_gender/Dataset/Train/female/132452.jpg\n/home/gpulab/Dev/ImageTraining/Check_gender/Dataset/Train/female/038554.jpg\n/home/gpulab/Dev/ImageTraining/Check_gender/Dataset/Train/female/013220.jpg\n/home/gpulab/Dev/ImageTraining/Check_gender/Dataset/Train/female/080818.jpg\n/home/gpulab/Dev/ImageTraining/Check_gender/Dataset/Train/female/002279.jpg\n/home/gpulab/Dev/ImageTraining/Check_gender/Dataset/Train/female/011775.jpg\n/home/gpulab/Dev/ImageTraining/Check_gender/Dataset/Train/female/081011.jpg\n/home/gpulab/Dev/ImageTraining/Check_gender/Dataset/Train/female/046862.jpg\n/home/gpulab/Dev/ImageTraining/Check_gender/Dataset/Train/female/150577.jpg\n/home/gpulab/Dev/ImageTraining/Check_gender/Dataset/Train/female/007003.jpg\n/home/gpulab/Dev/ImageTraining/Check_gender/Dataset/Train/female/104294.jpg\n/home/gpulab/Dev/ImageTraining/Check_gender/Dataset/Train/female/044737.jpg\n/home/gpulab/Dev/ImageTraining/Check_gender/Dataset/Train/female/102414.jpg\n/home/gpulab/Dev/ImageTraining/Check_gender/Dataset/Train/female/092598.jpg\n/home/gpulab/Dev/ImageTraining/Check_gender/Dataset/Train/female/021743.jpg\n/home/gpulab/Dev/ImageTraining/Check_gender/Dataset/Train/female/097660.jpg\n/home/gpulab/Dev/ImageTraining/Check_gender/Dataset/Train/female/055385.jpg\n/home/gpulab/Dev/ImageTraining/Check_gender/Dataset/Train/female/052196.jpg\n/home/gpulab/Dev/ImageTraining/Check_gender/Dataset/Train/female/081866.jpg\n/home/gpulab/Dev/ImageTraining/Check_gender/Dataset/Train/female/004765.jpg\n/home/gpulab/Dev/ImageTraining/Check_gender/Dataset/Train/female/134104.jpg\n/home/gpulab/Dev/ImageTraining/Check_gender/Dataset/Train/female/016916.jpg\n/home/gpulab/Dev/ImageTraining/Check_gender/Dataset/Train/female/113551.jpg\n/home/gpulab/Dev/ImageTraining/Check_gender/Dataset/Train/female/019870.jpg\n/home/gpulab/Dev/ImageTraining/Check_gender/Dataset/Train/female/017294.jpg\n/home/gpulab/Dev/ImageTraining/Check_gender/Dataset/Train/female/060710.jpg\n/home/gpulab/Dev/ImageTraining/Check_gender/Dataset/Train/female/108170.jpg\n/home/gpulab/Dev/ImageTraining/Check_gender/Dataset/Train/female/051128.jpg\n/home/gpulab/Dev/ImageTraining/Check_gender/Dataset/Train/female/127730.jpg\n/home/gpulab/Dev/ImageTraining/Check_gender/Dataset/Train/female/033903.jpg\n/home/gpulab/Dev/ImageTraining/Check_gender/Dataset/Train/female/082014.jpg\n/home/gpulab/Dev/ImageTraining/Check_gender/Dataset/Train/female/060193.jpg\n/home/gpulab/Dev/ImageTraining/Check_gender/Dataset/Train/female/017261.jpg\n/home/gpulab/Dev/ImageTraining/Check_gender/Dataset/Train/female/068231.jpg\n/home/gpulab/Dev/ImageTraining/Check_gender/Dataset/Train/female/127813.jpg\n/home/gpulab/Dev/ImageTraining/Check_gender/Dataset/Train/female/024845.jpg\n/home/gpulab/Dev/ImageTraining/Check_gender/Dataset/Train/female/067932.jpg\n/home/gpulab/Dev/ImageTraining/Check_gender/Dataset/Train/female/057887.jpg\n/home/gpulab/Dev/ImageTraining/Check_gender/Dataset/Train/female/048879.jpg\n/home/gpulab/Dev/ImageTraining/Check_gender/Dataset/Train/female/142847.jpg\n/home/gpulab/Dev/ImageTraining/Check_gender/Dataset/Train/female/069733.jpg\n/home/gpulab/Dev/ImageTraining/Check_gender/Dataset/Train/female/033486.jpg\n/home/gpulab/Dev/ImageTraining/Check_gender/Dataset/Train/female/000985.jpg\n/home/gpulab/Dev/ImageTraining/Check_gender/Dataset/Train/female/070358.jpg\n/home/gpulab/Dev/ImageTraining/Check_gender/Dataset/Train/female/132222.jpg\n/home/gpulab/Dev/ImageTraining/Check_gender/Dataset/Train/female/032678.jpg\n/home/gpulab/Dev/ImageTraining/Check_gender/Dataset/Train/female/153094.jpg\n/home/gpulab/Dev/ImageTraining/Check_gender/Dataset/Train/female/035314.jpg\n/home/gpulab/Dev/ImageTraining/Check_gender/Dataset/Train/female/005331.jpg\n/home/gpulab/Dev/ImageTraining/Check_gender/Dataset/Train/female/024865.jpg\n/home/gpulab/Dev/ImageTraining/Check_gender/Dataset/Train/female/096144.jpg\n/home/gpulab/Dev/ImageTraining/Check_gender/Dataset/Train/female/026966.jpg\n/home/gpulab/Dev/ImageTraining/Check_gender/Dataset/Train/female/117348.jpg\n/home/gpulab/Dev/ImageTraining/Check_gender/Dataset/Train/female/026357.jpg\n/home/gpulab/Dev/ImageTraining/Check_gender/Dataset/Train/female/004196.jpg\n/home/gpulab/Dev/ImageTraining/Check_gender/Dataset/Train/female/114383.jpg\n/home/gpulab/Dev/ImageTraining/Check_gender/Dataset/Train/female/003615.jpg\n/home/gpulab/Dev/ImageTraining/Check_gender/Dataset/Train/female/109972.jpg\n/home/gpulab/Dev/ImageTraining/Check_gender/Dataset/Train/female/158553.jpg\n/home/gpulab/Dev/ImageTraining/Check_gender/Dataset/Train/female/039334.jpg\n/home/gpulab/Dev/ImageTraining/Check_gender/Dataset/Train/female/096425.jpg\n/home/gpulab/Dev/ImageTraining/Check_gender/Dataset/Train/female/117654.jpg\n/home/gpulab/Dev/ImageTraining/Check_gender/Dataset/Train/female/036661.jpg\n/home/gpulab/Dev/ImageTraining/Check_gender/Dataset/Train/female/091691.jpg\n/home/gpulab/Dev/ImageTraining/Check_gender/Dataset/Train/female/072679.jpg\n/home/gpulab/Dev/ImageTraining/Check_gender/Dataset/Train/female/043536.jpg\n/home/gpulab/Dev/ImageTraining/Check_gender/Dataset/Train/female/085514.jpg\n/home/gpulab/Dev/ImageTraining/Check_gender/Dataset/Train/female/032884.jpg\n/home/gpulab/Dev/ImageTraining/Check_gender/Dataset/Train/female/035034.jpg\n/home/gpulab/Dev/ImageTraining/Check_gender/Dataset/Train/female/097281.jpg\n/home/gpulab/Dev/ImageTraining/Check_gender/Dataset/Train/female/041557.jpg\n/home/gpulab/Dev/ImageTraining/Check_gender/Dataset/Train/female/030481.jpg\n"
    }
   ],
   "source": [
    "image_w = 28\n",
    "image_h = 28\n",
    "  \n",
    "X = []\n",
    "Y = []\n",
    "  \n",
    "for idex, categorie in enumerate(categories):\n",
    "    label = [0 for i in range(num_classes)]\n",
    "    label[idex] = 1\n",
    "    image_dir = groups_folder_path + categorie + '/'\n",
    "  \n",
    "    for top, dir, f in os.walk(image_dir):\n",
    "        for filename in f:\n",
    "            # print(image_dir+filename)\n",
    "            img = cv2.imread(image_dir+filename)\n",
    "            img = cv2.resize(img, None, fx=image_w/img.shape[0], fy=image_h/img.shape[1])\n",
    "            X.append(img/256)\n",
    "            Y.append(label)\n",
    " \n",
    "X = np.array(X)\n",
    "Y = np.array(Y)"
   ]
  },
  {
   "cell_type": "code",
   "execution_count": null,
   "metadata": {},
   "outputs": [],
   "source": []
  },
  {
   "cell_type": "code",
   "execution_count": 15,
   "metadata": {},
   "outputs": [],
   "source": [
    "X_train, X_test, Y_train, Y_test = train_test_split(X,Y)\n",
    "# xy = (X_train, X_test, Y_train, Y_test)\n",
    " \n",
    "# np.save(\"./img_data.npy\", xy)"
   ]
  },
  {
   "cell_type": "code",
   "execution_count": 16,
   "metadata": {
    "tags": []
   },
   "outputs": [
    {
     "output_type": "error",
     "ename": "NameError",
     "evalue": "name 'time' is not defined",
     "traceback": [
      "\u001b[0;31m---------------------------------------------------------------------------\u001b[0m",
      "\u001b[0;31mNameError\u001b[0m                                 Traceback (most recent call last)",
      "\u001b[0;32m<ipython-input-16-8686f0227f54>\u001b[0m in \u001b[0;36m<module>\u001b[0;34m\u001b[0m\n\u001b[0;32m----> 1\u001b[0;31m \u001b[0mstart\u001b[0m \u001b[0;34m=\u001b[0m \u001b[0mtime\u001b[0m\u001b[0;34m.\u001b[0m\u001b[0mtime\u001b[0m\u001b[0;34m(\u001b[0m\u001b[0;34m)\u001b[0m  \u001b[0;31m# 시작 시간 저장\u001b[0m\u001b[0;34m\u001b[0m\u001b[0;34m\u001b[0m\u001b[0m\n\u001b[0m\u001b[1;32m      2\u001b[0m \u001b[0;34m\u001b[0m\u001b[0m\n\u001b[1;32m      3\u001b[0m \u001b[0mclf\u001b[0m \u001b[0;34m=\u001b[0m \u001b[0mak\u001b[0m\u001b[0;34m.\u001b[0m\u001b[0mImageClassifier\u001b[0m\u001b[0;34m(\u001b[0m\u001b[0;34m)\u001b[0m\u001b[0;34m\u001b[0m\u001b[0;34m\u001b[0m\u001b[0m\n\u001b[1;32m      4\u001b[0m \u001b[0;34m\u001b[0m\u001b[0m\n\u001b[1;32m      5\u001b[0m \u001b[0mclf\u001b[0m\u001b[0;34m.\u001b[0m\u001b[0mfit\u001b[0m\u001b[0;34m(\u001b[0m\u001b[0mX_train\u001b[0m\u001b[0;34m,\u001b[0m \u001b[0mY_train\u001b[0m\u001b[0;34m)\u001b[0m\u001b[0;34m\u001b[0m\u001b[0;34m\u001b[0m\u001b[0m\n",
      "\u001b[0;31mNameError\u001b[0m: name 'time' is not defined"
     ]
    }
   ],
   "source": [
    "start = time.time()  # 시작 시간 저장\n",
    "\n",
    "clf = ak.ImageClassifier()\n",
    "\n",
    "clf.fit(X_train, Y_train)\n",
    "results = clf.predict(X_test)\n",
    "\n",
    "# 작업 코드\n",
    "print(\"걸린시간 :\", time.time() - start)  # 현재시각 - 시작시간 = 실행 시간"
   ]
  },
  {
   "cell_type": "code",
   "execution_count": null,
   "metadata": {},
   "outputs": [],
   "source": [
    "ImageClassifier.evaluate(x, y=None, **kwargs)"
   ]
  },
  {
   "cell_type": "code",
   "execution_count": null,
   "metadata": {},
   "outputs": [],
   "source": [
    "ImageClassifier.export_model()"
   ]
  }
 ],
 "metadata": {
  "kernelspec": {
   "display_name": "tarocat=3.6",
   "language": "python",
   "name": "tarocat"
  },
  "language_info": {
   "codemirror_mode": {
    "name": "ipython",
    "version": 3
   },
   "file_extension": ".py",
   "mimetype": "text/x-python",
   "name": "python",
   "nbconvert_exporter": "python",
   "pygments_lexer": "ipython3",
   "version": "3.6.10-final"
  }
 },
 "nbformat": 4,
 "nbformat_minor": 4
}