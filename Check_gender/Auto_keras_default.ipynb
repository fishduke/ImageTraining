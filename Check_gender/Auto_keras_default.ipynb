{
 "cells": [
  {
   "cell_type": "code",
   "execution_count": 1,
   "metadata": {
    "tags": []
   },
   "outputs": [
    {
     "output_type": "stream",
     "name": "stdout",
     "text": "(60000, 28, 28)\n(60000,)\n[5 0 4]\n"
    }
   ],
   "source": [
    "import numpy as np\n",
    "import tensorflow as tf\n",
    "from tensorflow.keras.datasets import mnist\n",
    "from tensorflow.python.keras.utils.data_utils import Sequence\n",
    "import autokeras as ak\n",
    "\n",
    "(x_train, y_train), (x_test, y_test) = mnist.load_data()\n",
    "print(x_train.shape)  # (60000, 28, 28)\n",
    "print(y_train.shape)  # (60000,)\n",
    "print(y_train[:3])  # array([7, 2, 1], dtype=uint8)"
   ]
  },
  {
   "cell_type": "code",
   "execution_count": 2,
   "metadata": {
    "tags": []
   },
   "outputs": [
    {
     "output_type": "stream",
     "name": "stdout",
     "text": "Trial 1 Complete [00h 06m 00s]\nval_loss: 0.03988082706928253\n\nBest val_loss So Far: 0.03988082706928253\nTotal elapsed time: 00h 06m 00s\nINFO:tensorflow:Oracle triggered exit\nEpoch 1/10\n1875/1875 [==============================] - 42s 22ms/step - loss: 0.1627 - accuracy: 0.9508\nEpoch 2/10\n1875/1875 [==============================] - 41s 22ms/step - loss: 0.0743 - accuracy: 0.9773\nEpoch 3/10\n1875/1875 [==============================] - 42s 22ms/step - loss: 0.0605 - accuracy: 0.9808\nEpoch 4/10\n1875/1875 [==============================] - 42s 22ms/step - loss: 0.0522 - accuracy: 0.9833\nEpoch 5/10\n1875/1875 [==============================] - 43s 23ms/step - loss: 0.0447 - accuracy: 0.9856\nEpoch 6/10\n1875/1875 [==============================] - 42s 22ms/step - loss: 0.0404 - accuracy: 0.9869\nEpoch 7/10\n1875/1875 [==============================] - 42s 22ms/step - loss: 0.0384 - accuracy: 0.9875\nEpoch 8/10\n1875/1875 [==============================] - 42s 22ms/step - loss: 0.0350 - accuracy: 0.9889\nEpoch 9/10\n1875/1875 [==============================] - 42s 22ms/step - loss: 0.0322 - accuracy: 0.9895\nEpoch 10/10\n1875/1875 [==============================] - 41s 22ms/step - loss: 0.0305 - accuracy: 0.9902\n[[7]\n [2]\n [1]\n ...\n [4]\n [5]\n [6]]\nWARNING:tensorflow:Unresolved object in checkpoint: (root).optimizer.iter\nWARNING:tensorflow:Unresolved object in checkpoint: (root).optimizer.beta_1\nWARNING:tensorflow:Unresolved object in checkpoint: (root).optimizer.beta_2\nWARNING:tensorflow:Unresolved object in checkpoint: (root).optimizer.decay\nWARNING:tensorflow:Unresolved object in checkpoint: (root).optimizer.learning_rate\nWARNING:tensorflow:A checkpoint was restored (e.g. tf.train.Checkpoint.restore or tf.keras.Model.load_weights) but not all checkpointed values were used. See above for specific issues. Use expect_partial() on the load status object, e.g. tf.train.Checkpoint.restore(...).expect_partial(), to silence these warnings, or use assert_consumed() to make the check explicit. See https://www.tensorflow.org/guide/checkpoint#loading_mechanics for details.\n313/313 [==============================] - 1s 4ms/step - loss: 0.0366 - accuracy: 0.9891\n[0.03657360374927521, 0.9890999794006348]\n"
    }
   ],
   "source": [
    "# Initialize the image classifier.\n",
    "clf = ak.ImageClassifier(\n",
    "    overwrite=True,\n",
    "    max_trials=1)\n",
    "# Feed the image classifier with training data.\n",
    "clf.fit(x_train, y_train, epochs=10)\n",
    "\n",
    "\n",
    "# Predict with the best model.\n",
    "predicted_y = clf.predict(x_test)\n",
    "print(predicted_y)\n",
    "\n",
    "\n",
    "# Evaluate the best model with testing data.\n",
    "print(clf.evaluate(x_test, y_test))"
   ]
  },
  {
   "cell_type": "code",
   "execution_count": null,
   "metadata": {},
   "outputs": [],
   "source": []
  }
 ],
 "metadata": {
  "kernelspec": {
   "display_name": "Python 3.6.10 64-bit ('tarocat': conda)",
   "language": "python",
   "name": "python361064bittarocatconda1728d964b65b467cac41ed427c5dc19b"
  },
  "language_info": {
   "codemirror_mode": {
    "name": "ipython",
    "version": 3
   },
   "file_extension": ".py",
   "mimetype": "text/x-python",
   "name": "python",
   "nbconvert_exporter": "python",
   "pygments_lexer": "ipython3",
   "version": "3.6.10-final"
  }
 },
 "nbformat": 4,
 "nbformat_minor": 4
}